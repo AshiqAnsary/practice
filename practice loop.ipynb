{
 "cells": [
  {
   "cell_type": "code",
   "execution_count": 12,
   "id": "ebc828c8",
   "metadata": {},
   "outputs": [
    {
     "name": "stdout",
     "output_type": "stream",
     "text": [
      "attemt 1 .\n",
      "attemt 3 ...\n",
      "attemt 5 .....\n",
      "attemt 7 .......\n",
      "attemt 9 .........\n"
     ]
    }
   ],
   "source": [
    "for number in range(1,10,2):\n",
    "    print('attemt',number,(number)*\".\")"
   ]
  },
  {
   "cell_type": "code",
   "execution_count": 27,
   "id": "9f79c052",
   "metadata": {},
   "outputs": [
    {
     "name": "stdout",
     "output_type": "stream",
     "text": [
      "Attempt\n",
      "Attempt\n",
      "Attempt\n",
      "take attempt but faild\n"
     ]
    }
   ],
   "source": [
    "successfull=False\n",
    "for number in range(3):\n",
    "    print(\"Attempt\")\n",
    "    if successfull:\n",
    "        print(\"Successfull\")\n",
    "        break\n",
    "else:\n",
    "        print(\"take attempt but faild\")"
   ]
  },
  {
   "cell_type": "code",
   "execution_count": 29,
   "id": "f4aa4562",
   "metadata": {},
   "outputs": [
    {
     "name": "stdout",
     "output_type": "stream",
     "text": [
      "(0,0)\n",
      "(0,1)\n",
      "(0,2)\n",
      "(1,0)\n",
      "(1,1)\n",
      "(1,2)\n",
      "(2,0)\n",
      "(2,1)\n",
      "(2,2)\n",
      "(3,0)\n",
      "(3,1)\n",
      "(3,2)\n",
      "(4,0)\n",
      "(4,1)\n",
      "(4,2)\n"
     ]
    }
   ],
   "source": [
    "for x in range(5):\n",
    "    for y in range(3):\n",
    "        print(f\"({x},{y})\")"
   ]
  },
  {
   "cell_type": "code",
   "execution_count": 43,
   "id": "a21f3643",
   "metadata": {},
   "outputs": [
    {
     "name": "stdout",
     "output_type": "stream",
     "text": [
      "2\n",
      "4\n",
      "6\n",
      "8\n",
      "We have 4 even number\n"
     ]
    }
   ],
   "source": [
    "count=0\n",
    "for x in range(1,10):\n",
    "    if x % 2==0:\n",
    "        count+=1\n",
    "        print(x)\n",
    "print(f\"We have {count} even number\")\n",
    "        \n",
    "    "
   ]
  },
  {
   "cell_type": "code",
   "execution_count": null,
   "id": "6f98ac15",
   "metadata": {},
   "outputs": [
    {
     "name": "stdout",
     "output_type": "stream",
     "text": [
      "Geuss number and win price\n"
     ]
    }
   ],
   "source": [
    "print(\"Geuss number and win price\")\n",
    "import random\n",
    "n=20\n",
    "to_be_guessed=int(n*random.random())+1\n",
    "guess=0\n",
    "while guess != to_be_guessed:\n",
    "    guess=int(input(\"new number :\"))\n",
    "    if guess>0:\n",
    "        if guess>to_be_guessed:\n",
    "            print(\"Number Is too large\")\n",
    "        elif guess<to_be_guessed:\n",
    "             print(\"Number Is too small\")\n",
    "    else:\n",
    "        print(\"Sorry, that you are giving up\")\n",
    "        break\n",
    "\n",
    "else :\n",
    "    print(\"congratilation you made it\")\n",
    "\n"
   ]
  },
  {
   "cell_type": "code",
   "execution_count": null,
   "id": "38ebd6ac",
   "metadata": {},
   "outputs": [],
   "source": []
  }
 ],
 "metadata": {
  "kernelspec": {
   "display_name": "Python 3 (ipykernel)",
   "language": "python",
   "name": "python3"
  },
  "language_info": {
   "codemirror_mode": {
    "name": "ipython",
    "version": 3
   },
   "file_extension": ".py",
   "mimetype": "text/x-python",
   "name": "python",
   "nbconvert_exporter": "python",
   "pygments_lexer": "ipython3",
   "version": "3.9.7"
  }
 },
 "nbformat": 4,
 "nbformat_minor": 5
}
