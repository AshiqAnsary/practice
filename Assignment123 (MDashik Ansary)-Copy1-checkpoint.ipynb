{
 "cells": [
  {
   "cell_type": "code",
   "execution_count": 3,
   "id": "014613d0",
   "metadata": {},
   "outputs": [
    {
     "name": "stdout",
     "output_type": "stream",
     "text": [
      "enter Radious:1.1\n",
      "3.8013271108436504\n"
     ]
    }
   ],
   "source": [
    "# Question 01\n",
    "\n",
    "from math import pi\n",
    "r=float(input(\"enter Radious:\"))\n",
    "area=float(pi*r**2)\n",
    "print(area)"
   ]
  },
  {
   "cell_type": "code",
   "execution_count": 8,
   "id": "8f19babb",
   "metadata": {},
   "outputs": [
    {
     "name": "stdout",
     "output_type": "stream",
     "text": [
      "Enter your First Name:Ashiq\n",
      "Enter your last name:ansary\n",
      "hello ansary Ashiq\n"
     ]
    }
   ],
   "source": [
    "# Question 02\n",
    "\n",
    "first_name=input(\"Enter your First Name:\")\n",
    "last_name=input(\"Enter your last name:\")\n",
    "print(\"hello \"+last_name+\" \"+first_name)\n"
   ]
  },
  {
   "cell_type": "code",
   "execution_count": 10,
   "id": "6fcff300",
   "metadata": {},
   "outputs": [
    {
     "name": "stdout",
     "output_type": "stream",
     "text": [
      "BANGLADESH\n",
      "10\n"
     ]
    }
   ],
   "source": [
    "# Question 03\n",
    "\n",
    "x=\"BANGLADESH\"\n",
    "print(x)\n",
    "\n",
    "print(len(x))"
   ]
  },
  {
   "cell_type": "code",
   "execution_count": 26,
   "id": "5d56c031",
   "metadata": {},
   "outputs": [
    {
     "name": "stdout",
     "output_type": "stream",
     "text": [
      "g:2 o:3 l:1 e:1 c:1 m:1\n"
     ]
    }
   ],
   "source": [
    "# Question 04\n",
    "\n",
    "a=\"google.com\"\n",
    "\n",
    "st_1=a.count(\"g\")\n",
    "st_2=a.count(\"o\")\n",
    "st_3=a.count(\"l\")\n",
    "st_4=a.count(\"e\")\n",
    "st_5=a.count(\"c\")\n",
    "st_6=a.count(\"m\")\n",
    "\n",
    "print(\"g:\"+str(st_1),\"o:\"+str(st_2),\"l:\"+str(st_3),\"e:\"+str(st_4),\"c:\"+str(st_5),\"m:\"+str(st_6))"
   ]
  },
  {
   "cell_type": "code",
   "execution_count": 32,
   "id": "0717129e",
   "metadata": {},
   "outputs": [
    {
     "name": "stdout",
     "output_type": "stream",
     "text": [
      "xyc abz\n"
     ]
    }
   ],
   "source": [
    "# Question 05\n",
    "\n",
    "a=\"abc\"\n",
    "b=\"xyz\"\n",
    "\n",
    "x=a[0:2]\n",
    "\n",
    "a=a.replace(a[0:2],b[0:2])\n",
    "b=b.replace(b[0:2],x)\n",
    "\n",
    "print(a,b)"
   ]
  },
  {
   "cell_type": "code",
   "execution_count": 42,
   "id": "edb25178",
   "metadata": {},
   "outputs": [
    {
     "name": "stdout",
     "output_type": "stream",
     "text": [
      "27\n"
     ]
    }
   ],
   "source": [
    "# Question 07\n",
    "\n",
    "numbers=[2,3,4,5,6,7]\n",
    "add =sum(numbers)\n",
    "print(add)"
   ]
  },
  {
   "cell_type": "code",
   "execution_count": 54,
   "id": "54cc3b48",
   "metadata": {},
   "outputs": [
    {
     "name": "stdout",
     "output_type": "stream",
     "text": [
      "36\n"
     ]
    }
   ],
   "source": [
    "# Question 08\n",
    "\n",
    "import math\n",
    "list1=[2,3,6]\n",
    "result1 = math.prod(list1)\n",
    "print(result1)"
   ]
  },
  {
   "cell_type": "code",
   "execution_count": 44,
   "id": "fab6476f",
   "metadata": {},
   "outputs": [
    {
     "name": "stdout",
     "output_type": "stream",
     "text": [
      "79\n"
     ]
    }
   ],
   "source": [
    "# Question 09\n",
    "\n",
    "num=[23,45,62,12,45,7,79,23,56]\n",
    "largest=max(num)\n",
    "print(largest)"
   ]
  },
  {
   "cell_type": "code",
   "execution_count": 45,
   "id": "8a68a9fd",
   "metadata": {},
   "outputs": [
    {
     "name": "stdout",
     "output_type": "stream",
     "text": [
      "{2, 34, 4, 5, 6, 3, 8, 9, 11, 12, 45, 23}\n"
     ]
    }
   ],
   "source": [
    "# Question 10\n",
    "\n",
    "my_list=[2,4,5,6,4,5,8,8,9,12,23,45,34,34,23,12,12,11,34,45,3,4,5,6,]\n",
    "uni_num=set(my_list)\n",
    "print(uni_num)"
   ]
  },
  {
   "cell_type": "code",
   "execution_count": 51,
   "id": "ae88fbfa",
   "metadata": {},
   "outputs": [
    {
     "name": "stdout",
     "output_type": "stream",
     "text": [
      "['Green', 'White', 'Black']\n"
     ]
    }
   ],
   "source": [
    "# Question 11\n",
    "\n",
    "ccolor = ['Red', 'Green', 'White', 'Black', 'Pink', 'Yellow']  \n",
    "color = [x for (i,x) in enumerate(color) if i not in (0,4,5)]  \n",
    "print(color)"
   ]
  },
  {
   "cell_type": "code",
   "execution_count": 56,
   "id": "ba01f956",
   "metadata": {},
   "outputs": [
    {
     "name": "stdout",
     "output_type": "stream",
     "text": [
      "Enter a number: 13\n",
      "This is an odd number.\n"
     ]
    }
   ],
   "source": [
    "# Question 16\n",
    "\n",
    "num = int(input(\"Enter a number: \"))\n",
    "mod = num % 2\n",
    "if mod > 0:\n",
    "    print(\"This is an odd number.\")\n",
    "else:\n",
    "    print(\"This is an even number.\")"
   ]
  },
  {
   "cell_type": "code",
   "execution_count": 5,
   "id": "442d1d65",
   "metadata": {},
   "outputs": [
    {
     "name": "stdout",
     "output_type": "stream",
     "text": [
      "Enter Age : 12\n",
      "Not Eligible for casting vote\n"
     ]
    }
   ],
   "source": [
    "# Question 18\n",
    "age = int(input(\"Enter Age : \"))\n",
    "\n",
    "if age>=18:\n",
    "        status=\"congratulation!!! you can cast your vote\"\n",
    "else:\n",
    "    status=\"Not Eligible for casting vote\"\n",
    "\n",
    "print(status)"
   ]
  },
  {
   "cell_type": "code",
   "execution_count": 1,
   "id": "e9a7a739",
   "metadata": {},
   "outputs": [
    {
     "name": "stdout",
     "output_type": "stream",
     "text": [
      "Enter number of elements:10\n",
      "34\n",
      "[34]\n",
      "largest 3 number are: [34]\n",
      "23\n",
      "[23, 34]\n",
      "largest 3 number are: [23, 34]\n",
      "12\n",
      "[12, 23, 34]\n",
      "largest 3 number are: [12, 23, 34]\n",
      "78\n",
      "[12, 23, 34, 78]\n",
      "largest 3 number are: [23, 34, 78]\n",
      "89\n",
      "[12, 23, 34, 78, 89]\n",
      "largest 3 number are: [34, 78, 89]\n",
      "56\n",
      "[12, 23, 34, 56, 78, 89]\n",
      "largest 3 number are: [56, 78, 89]\n",
      "36\n",
      "[12, 23, 34, 36, 56, 78, 89]\n",
      "largest 3 number are: [56, 78, 89]\n",
      "12\n",
      "[12, 12, 23, 34, 36, 56, 78, 89]\n",
      "largest 3 number are: [56, 78, 89]\n",
      "123\n",
      "[12, 12, 23, 34, 36, 56, 78, 89, 123]\n",
      "largest 3 number are: [78, 89, 123]\n",
      "45\n",
      "[12, 12, 23, 34, 36, 45, 56, 78, 89, 123]\n",
      "largest 3 number are: [78, 89, 123]\n"
     ]
    }
   ],
   "source": [
    "lst=[]\n",
    "n=int(input(\"Enter number of elements:\"))\n",
    "for i in range(0,n):\n",
    "    ele = int(input())\n",
    "    lst.append(ele)\n",
    "    lst.sort()\n",
    "    print(lst)\n",
    "    print (\"largest 3 number are:\",lst[-3:])\n",
    "    "
   ]
  },
  {
   "cell_type": "markdown",
   "id": "1a18061a",
   "metadata": {},
   "source": []
  },
  {
   "cell_type": "code",
   "execution_count": 5,
   "id": "f948f492",
   "metadata": {},
   "outputs": [
    {
     "name": "stdout",
     "output_type": "stream",
     "text": [
      "enter number of elements:10\n",
      "1\n",
      "2\n",
      "3\n",
      "4\n",
      "5\n",
      "6\n",
      "7\n",
      "8\n",
      "9\n",
      "10\n"
     ]
    }
   ],
   "source": [
    "n=int(input(\"enter number of elements:\"))\n",
    "i=1\n",
    "while i<=n:\n",
    "    print(i),\n",
    "    i=i+1\n",
    "    "
   ]
  },
  {
   "cell_type": "code",
   "execution_count": 2,
   "id": "7ea268a9",
   "metadata": {},
   "outputs": [
    {
     "name": "stdout",
     "output_type": "stream",
     "text": [
      "enter number of elements:4\n",
      "1\n",
      "2\n",
      "3\n",
      "4\n"
     ]
    },
    {
     "data": {
      "text/plain": [
       "list"
      ]
     },
     "execution_count": 2,
     "metadata": {},
     "output_type": "execute_result"
    }
   ],
   "source": [
    "n=int(input(\"enter number of elements:\"))\n",
    "i=1\n",
    "while i<=n:\n",
    "    print(i),\n",
    "    i=i+1\n",
    "    \n",
    "n=[i]\n",
    "type(n)\n",
    "#res=sum(n)\n",
    "#print(res)"
   ]
  },
  {
   "cell_type": "code",
   "execution_count": 31,
   "id": "7bd9b397",
   "metadata": {},
   "outputs": [
    {
     "name": "stdout",
     "output_type": "stream",
     "text": [
      "\n",
      "*\n",
      "**\n",
      "***\n",
      "****\n"
     ]
    }
   ],
   "source": [
    "row=4\n",
    "for i in range(row+1):  \n",
    "    print(i*'*')  \n"
   ]
  },
  {
   "cell_type": "code",
   "execution_count": 38,
   "id": "c630211a",
   "metadata": {},
   "outputs": [
    {
     "name": "stdout",
     "output_type": "stream",
     "text": [
      "0 2 4 6 8 "
     ]
    }
   ],
   "source": [
    "#Question no-38\n",
    "\n",
    "for i in range(0, 10, 2):\n",
    "    print(i, end=\" \")"
   ]
  },
  {
   "cell_type": "code",
   "execution_count": 3,
   "id": "9527b8bb",
   "metadata": {},
   "outputs": [
    {
     "name": "stdout",
     "output_type": "stream",
     "text": [
      "100 110 120 130 140 150 "
     ]
    },
    {
     "data": {
      "text/plain": [
       "list"
      ]
     },
     "execution_count": 3,
     "metadata": {},
     "output_type": "execute_result"
    }
   ],
   "source": [
    "#Question no-39\n",
    "\n",
    "for i in range(100, 160, 10):\n",
    "    print(i, end=\" \")\n",
    "lst=[i]\n",
    "type(lst)"
   ]
  },
  {
   "cell_type": "code",
   "execution_count": null,
   "id": "9ba580bd",
   "metadata": {},
   "outputs": [],
   "source": []
  }
 ],
 "metadata": {
  "kernelspec": {
   "display_name": "Python 3 (ipykernel)",
   "language": "python",
   "name": "python3"
  },
  "language_info": {
   "codemirror_mode": {
    "name": "ipython",
    "version": 3
   },
   "file_extension": ".py",
   "mimetype": "text/x-python",
   "name": "python",
   "nbconvert_exporter": "python",
   "pygments_lexer": "ipython3",
   "version": "3.9.7"
  }
 },
 "nbformat": 4,
 "nbformat_minor": 5
}
